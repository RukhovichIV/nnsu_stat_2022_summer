{
 "cells": [
  {
   "cell_type": "markdown",
   "metadata": {},
   "source": [
    "### Imports"
   ]
  },
  {
   "cell_type": "code",
   "execution_count": 13,
   "metadata": {},
   "outputs": [],
   "source": [
    "import numpy as np\n",
    "import pandas as pd\n",
    "import seaborn as sns\n",
    "from matplotlib import pyplot as plt\n",
    "from scipy import stats"
   ]
  },
  {
   "cell_type": "markdown",
   "metadata": {},
   "source": [
    "### Reading data"
   ]
  },
  {
   "cell_type": "code",
   "execution_count": 2,
   "metadata": {},
   "outputs": [],
   "source": [
    "data_path = \"../data/lab_2/car_crashes.xlsx\""
   ]
  },
  {
   "cell_type": "code",
   "execution_count": 3,
   "metadata": {},
   "outputs": [
    {
     "data": {
      "text/html": [
       "<div>\n",
       "<style scoped>\n",
       "    .dataframe tbody tr th:only-of-type {\n",
       "        vertical-align: middle;\n",
       "    }\n",
       "\n",
       "    .dataframe tbody tr th {\n",
       "        vertical-align: top;\n",
       "    }\n",
       "\n",
       "    .dataframe thead th {\n",
       "        text-align: right;\n",
       "    }\n",
       "</style>\n",
       "<table border=\"1\" class=\"dataframe\">\n",
       "  <thead>\n",
       "    <tr style=\"text-align: right;\">\n",
       "      <th></th>\n",
       "      <th>ID</th>\n",
       "      <th>Source</th>\n",
       "      <th>TMC</th>\n",
       "      <th>Severity</th>\n",
       "      <th>Start_Time</th>\n",
       "      <th>End_Time</th>\n",
       "      <th>Distance(mi)</th>\n",
       "      <th>Description</th>\n",
       "      <th>Street</th>\n",
       "      <th>Side</th>\n",
       "      <th>...</th>\n",
       "      <th>No_Exit</th>\n",
       "      <th>Railway</th>\n",
       "      <th>Roundabout</th>\n",
       "      <th>Station</th>\n",
       "      <th>Stop</th>\n",
       "      <th>Traffic_Calming</th>\n",
       "      <th>Traffic_Signal</th>\n",
       "      <th>Turning_Loop</th>\n",
       "      <th>Sunrise_Sunset</th>\n",
       "      <th>Civil_Twilight</th>\n",
       "    </tr>\n",
       "  </thead>\n",
       "  <tbody>\n",
       "    <tr>\n",
       "      <th>0</th>\n",
       "      <td>A-1</td>\n",
       "      <td>MapQuest</td>\n",
       "      <td>201.0</td>\n",
       "      <td>3</td>\n",
       "      <td>2016-02-08 05:46:00</td>\n",
       "      <td>2016-02-08 11:00:00</td>\n",
       "      <td>0.01</td>\n",
       "      <td>Right lane blocked due to accident on I-70 Eas...</td>\n",
       "      <td>I-70 E</td>\n",
       "      <td>R</td>\n",
       "      <td>...</td>\n",
       "      <td>False</td>\n",
       "      <td>False</td>\n",
       "      <td>False</td>\n",
       "      <td>False</td>\n",
       "      <td>False</td>\n",
       "      <td>False</td>\n",
       "      <td>False</td>\n",
       "      <td>False</td>\n",
       "      <td>Night</td>\n",
       "      <td>Night</td>\n",
       "    </tr>\n",
       "    <tr>\n",
       "      <th>1</th>\n",
       "      <td>A-2</td>\n",
       "      <td>MapQuest</td>\n",
       "      <td>201.0</td>\n",
       "      <td>2</td>\n",
       "      <td>2016-02-08 06:07:59</td>\n",
       "      <td>2016-02-08 06:37:59</td>\n",
       "      <td>0.01</td>\n",
       "      <td>Accident on Brice Rd at Tussing Rd. Expect del...</td>\n",
       "      <td>Brice Rd</td>\n",
       "      <td>L</td>\n",
       "      <td>...</td>\n",
       "      <td>False</td>\n",
       "      <td>False</td>\n",
       "      <td>False</td>\n",
       "      <td>False</td>\n",
       "      <td>False</td>\n",
       "      <td>False</td>\n",
       "      <td>False</td>\n",
       "      <td>False</td>\n",
       "      <td>Night</td>\n",
       "      <td>Night</td>\n",
       "    </tr>\n",
       "    <tr>\n",
       "      <th>2</th>\n",
       "      <td>A-3</td>\n",
       "      <td>MapQuest</td>\n",
       "      <td>201.0</td>\n",
       "      <td>2</td>\n",
       "      <td>2016-02-08 06:49:27</td>\n",
       "      <td>2016-02-08 07:19:27</td>\n",
       "      <td>0.01</td>\n",
       "      <td>Accident on OH-32 State Route 32 Westbound at ...</td>\n",
       "      <td>State Route 32</td>\n",
       "      <td>R</td>\n",
       "      <td>...</td>\n",
       "      <td>False</td>\n",
       "      <td>False</td>\n",
       "      <td>False</td>\n",
       "      <td>False</td>\n",
       "      <td>False</td>\n",
       "      <td>False</td>\n",
       "      <td>True</td>\n",
       "      <td>False</td>\n",
       "      <td>Night</td>\n",
       "      <td>Night</td>\n",
       "    </tr>\n",
       "    <tr>\n",
       "      <th>3</th>\n",
       "      <td>A-4</td>\n",
       "      <td>MapQuest</td>\n",
       "      <td>201.0</td>\n",
       "      <td>3</td>\n",
       "      <td>2016-02-08 07:23:34</td>\n",
       "      <td>2016-02-08 07:53:34</td>\n",
       "      <td>0.01</td>\n",
       "      <td>Accident on I-75 Southbound at Exits 52 52B US...</td>\n",
       "      <td>I-75 S</td>\n",
       "      <td>R</td>\n",
       "      <td>...</td>\n",
       "      <td>False</td>\n",
       "      <td>False</td>\n",
       "      <td>False</td>\n",
       "      <td>False</td>\n",
       "      <td>False</td>\n",
       "      <td>False</td>\n",
       "      <td>False</td>\n",
       "      <td>False</td>\n",
       "      <td>Night</td>\n",
       "      <td>Day</td>\n",
       "    </tr>\n",
       "    <tr>\n",
       "      <th>4</th>\n",
       "      <td>A-5</td>\n",
       "      <td>MapQuest</td>\n",
       "      <td>201.0</td>\n",
       "      <td>2</td>\n",
       "      <td>2016-02-08 07:39:07</td>\n",
       "      <td>2016-02-08 08:09:07</td>\n",
       "      <td>0.01</td>\n",
       "      <td>Accident on McEwen Rd at OH-725 Miamisburg Cen...</td>\n",
       "      <td>Miamisburg Centerville Rd</td>\n",
       "      <td>R</td>\n",
       "      <td>...</td>\n",
       "      <td>False</td>\n",
       "      <td>False</td>\n",
       "      <td>False</td>\n",
       "      <td>False</td>\n",
       "      <td>False</td>\n",
       "      <td>False</td>\n",
       "      <td>True</td>\n",
       "      <td>False</td>\n",
       "      <td>Day</td>\n",
       "      <td>Day</td>\n",
       "    </tr>\n",
       "    <tr>\n",
       "      <th>...</th>\n",
       "      <td>...</td>\n",
       "      <td>...</td>\n",
       "      <td>...</td>\n",
       "      <td>...</td>\n",
       "      <td>...</td>\n",
       "      <td>...</td>\n",
       "      <td>...</td>\n",
       "      <td>...</td>\n",
       "      <td>...</td>\n",
       "      <td>...</td>\n",
       "      <td>...</td>\n",
       "      <td>...</td>\n",
       "      <td>...</td>\n",
       "      <td>...</td>\n",
       "      <td>...</td>\n",
       "      <td>...</td>\n",
       "      <td>...</td>\n",
       "      <td>...</td>\n",
       "      <td>...</td>\n",
       "      <td>...</td>\n",
       "      <td>...</td>\n",
       "    </tr>\n",
       "    <tr>\n",
       "      <th>4995</th>\n",
       "      <td>A-4996</td>\n",
       "      <td>MapQuest</td>\n",
       "      <td>201.0</td>\n",
       "      <td>2</td>\n",
       "      <td>2016-08-01 11:35:41</td>\n",
       "      <td>2016-08-01 12:05:41</td>\n",
       "      <td>0.00</td>\n",
       "      <td>Accident on Cold Springs Rd at Middletown Rd.</td>\n",
       "      <td>Cold Springs Rd</td>\n",
       "      <td>R</td>\n",
       "      <td>...</td>\n",
       "      <td>False</td>\n",
       "      <td>False</td>\n",
       "      <td>False</td>\n",
       "      <td>False</td>\n",
       "      <td>False</td>\n",
       "      <td>False</td>\n",
       "      <td>False</td>\n",
       "      <td>False</td>\n",
       "      <td>Day</td>\n",
       "      <td>Day</td>\n",
       "    </tr>\n",
       "    <tr>\n",
       "      <th>4996</th>\n",
       "      <td>A-4997</td>\n",
       "      <td>MapQuest</td>\n",
       "      <td>201.0</td>\n",
       "      <td>2</td>\n",
       "      <td>2016-08-01 11:41:23</td>\n",
       "      <td>2016-08-01 12:26:23</td>\n",
       "      <td>0.00</td>\n",
       "      <td>Accident on Travis Blvd at Holiday Ln.</td>\n",
       "      <td>Travis Blvd</td>\n",
       "      <td>R</td>\n",
       "      <td>...</td>\n",
       "      <td>False</td>\n",
       "      <td>False</td>\n",
       "      <td>False</td>\n",
       "      <td>False</td>\n",
       "      <td>False</td>\n",
       "      <td>False</td>\n",
       "      <td>True</td>\n",
       "      <td>False</td>\n",
       "      <td>Day</td>\n",
       "      <td>Day</td>\n",
       "    </tr>\n",
       "    <tr>\n",
       "      <th>4997</th>\n",
       "      <td>A-4998</td>\n",
       "      <td>MapQuest</td>\n",
       "      <td>201.0</td>\n",
       "      <td>2</td>\n",
       "      <td>2016-08-01 11:57:27</td>\n",
       "      <td>2016-08-01 12:42:27</td>\n",
       "      <td>0.00</td>\n",
       "      <td>Accident on River Rd at Orchard Rd.</td>\n",
       "      <td>River Rd</td>\n",
       "      <td>L</td>\n",
       "      <td>...</td>\n",
       "      <td>False</td>\n",
       "      <td>False</td>\n",
       "      <td>False</td>\n",
       "      <td>False</td>\n",
       "      <td>False</td>\n",
       "      <td>False</td>\n",
       "      <td>False</td>\n",
       "      <td>False</td>\n",
       "      <td>Day</td>\n",
       "      <td>Day</td>\n",
       "    </tr>\n",
       "    <tr>\n",
       "      <th>4998</th>\n",
       "      <td>A-4999</td>\n",
       "      <td>MapQuest</td>\n",
       "      <td>201.0</td>\n",
       "      <td>2</td>\n",
       "      <td>2016-08-01 12:00:54</td>\n",
       "      <td>2016-08-01 12:30:54</td>\n",
       "      <td>0.00</td>\n",
       "      <td>Accident on Marconi Ave at Bell St.</td>\n",
       "      <td>Bell St</td>\n",
       "      <td>R</td>\n",
       "      <td>...</td>\n",
       "      <td>False</td>\n",
       "      <td>False</td>\n",
       "      <td>False</td>\n",
       "      <td>False</td>\n",
       "      <td>False</td>\n",
       "      <td>False</td>\n",
       "      <td>False</td>\n",
       "      <td>False</td>\n",
       "      <td>Day</td>\n",
       "      <td>Day</td>\n",
       "    </tr>\n",
       "    <tr>\n",
       "      <th>4999</th>\n",
       "      <td>A-5000</td>\n",
       "      <td>MapQuest</td>\n",
       "      <td>201.0</td>\n",
       "      <td>2</td>\n",
       "      <td>2016-08-01 11:59:44</td>\n",
       "      <td>2016-08-01 12:29:44</td>\n",
       "      <td>0.00</td>\n",
       "      <td>Accident on Madison Ave Westbound at I-80.</td>\n",
       "      <td>I-80 W</td>\n",
       "      <td>R</td>\n",
       "      <td>...</td>\n",
       "      <td>False</td>\n",
       "      <td>False</td>\n",
       "      <td>False</td>\n",
       "      <td>False</td>\n",
       "      <td>False</td>\n",
       "      <td>False</td>\n",
       "      <td>False</td>\n",
       "      <td>False</td>\n",
       "      <td>Day</td>\n",
       "      <td>Day</td>\n",
       "    </tr>\n",
       "  </tbody>\n",
       "</table>\n",
       "<p>5000 rows × 37 columns</p>\n",
       "</div>"
      ],
      "text/plain": [
       "          ID    Source    TMC  Severity           Start_Time  \\\n",
       "0        A-1  MapQuest  201.0         3  2016-02-08 05:46:00   \n",
       "1        A-2  MapQuest  201.0         2  2016-02-08 06:07:59   \n",
       "2        A-3  MapQuest  201.0         2  2016-02-08 06:49:27   \n",
       "3        A-4  MapQuest  201.0         3  2016-02-08 07:23:34   \n",
       "4        A-5  MapQuest  201.0         2  2016-02-08 07:39:07   \n",
       "...      ...       ...    ...       ...                  ...   \n",
       "4995  A-4996  MapQuest  201.0         2  2016-08-01 11:35:41   \n",
       "4996  A-4997  MapQuest  201.0         2  2016-08-01 11:41:23   \n",
       "4997  A-4998  MapQuest  201.0         2  2016-08-01 11:57:27   \n",
       "4998  A-4999  MapQuest  201.0         2  2016-08-01 12:00:54   \n",
       "4999  A-5000  MapQuest  201.0         2  2016-08-01 11:59:44   \n",
       "\n",
       "                 End_Time  Distance(mi)  \\\n",
       "0     2016-02-08 11:00:00          0.01   \n",
       "1     2016-02-08 06:37:59          0.01   \n",
       "2     2016-02-08 07:19:27          0.01   \n",
       "3     2016-02-08 07:53:34          0.01   \n",
       "4     2016-02-08 08:09:07          0.01   \n",
       "...                   ...           ...   \n",
       "4995  2016-08-01 12:05:41          0.00   \n",
       "4996  2016-08-01 12:26:23          0.00   \n",
       "4997  2016-08-01 12:42:27          0.00   \n",
       "4998  2016-08-01 12:30:54          0.00   \n",
       "4999  2016-08-01 12:29:44          0.00   \n",
       "\n",
       "                                            Description  \\\n",
       "0     Right lane blocked due to accident on I-70 Eas...   \n",
       "1     Accident on Brice Rd at Tussing Rd. Expect del...   \n",
       "2     Accident on OH-32 State Route 32 Westbound at ...   \n",
       "3     Accident on I-75 Southbound at Exits 52 52B US...   \n",
       "4     Accident on McEwen Rd at OH-725 Miamisburg Cen...   \n",
       "...                                                 ...   \n",
       "4995      Accident on Cold Springs Rd at Middletown Rd.   \n",
       "4996             Accident on Travis Blvd at Holiday Ln.   \n",
       "4997                Accident on River Rd at Orchard Rd.   \n",
       "4998                Accident on Marconi Ave at Bell St.   \n",
       "4999         Accident on Madison Ave Westbound at I-80.   \n",
       "\n",
       "                         Street Side  ... No_Exit Railway Roundabout Station  \\\n",
       "0                        I-70 E    R  ...   False   False      False   False   \n",
       "1                      Brice Rd    L  ...   False   False      False   False   \n",
       "2                State Route 32    R  ...   False   False      False   False   \n",
       "3                        I-75 S    R  ...   False   False      False   False   \n",
       "4     Miamisburg Centerville Rd    R  ...   False   False      False   False   \n",
       "...                         ...  ...  ...     ...     ...        ...     ...   \n",
       "4995            Cold Springs Rd    R  ...   False   False      False   False   \n",
       "4996                Travis Blvd    R  ...   False   False      False   False   \n",
       "4997                   River Rd    L  ...   False   False      False   False   \n",
       "4998                    Bell St    R  ...   False   False      False   False   \n",
       "4999                     I-80 W    R  ...   False   False      False   False   \n",
       "\n",
       "       Stop  Traffic_Calming  Traffic_Signal  Turning_Loop  Sunrise_Sunset  \\\n",
       "0     False            False           False         False           Night   \n",
       "1     False            False           False         False           Night   \n",
       "2     False            False            True         False           Night   \n",
       "3     False            False           False         False           Night   \n",
       "4     False            False            True         False             Day   \n",
       "...     ...              ...             ...           ...             ...   \n",
       "4995  False            False           False         False             Day   \n",
       "4996  False            False            True         False             Day   \n",
       "4997  False            False           False         False             Day   \n",
       "4998  False            False           False         False             Day   \n",
       "4999  False            False           False         False             Day   \n",
       "\n",
       "     Civil_Twilight  \n",
       "0             Night  \n",
       "1             Night  \n",
       "2             Night  \n",
       "3               Day  \n",
       "4               Day  \n",
       "...             ...  \n",
       "4995            Day  \n",
       "4996            Day  \n",
       "4997            Day  \n",
       "4998            Day  \n",
       "4999            Day  \n",
       "\n",
       "[5000 rows x 37 columns]"
      ]
     },
     "execution_count": 3,
     "metadata": {},
     "output_type": "execute_result"
    }
   ],
   "source": [
    "df = pd.read_excel(data_path)\n",
    "df"
   ]
  },
  {
   "cell_type": "markdown",
   "metadata": {},
   "source": [
    "### Functions"
   ]
  },
  {
   "cell_type": "code",
   "execution_count": 166,
   "metadata": {},
   "outputs": [],
   "source": [
    "def mean(arr):\n",
    "    return momentum(arr, 1)\n",
    "\n",
    "def median(arr):\n",
    "    arr = sorted(arr)\n",
    "    mid1 = len(arr) // 2\n",
    "    mid2 = (len(arr) - 1) // 2\n",
    "    return (arr[mid1] + arr[mid2]) / 2\n",
    "\n",
    "def trunc_mean(arr, q):\n",
    "    if q < 0 or q > 1:\n",
    "        raise ValueError(\"Q must be between 0 and 1\")\n",
    "    arr = sorted(arr)\n",
    "    lbound = int(len(arr) * q)\n",
    "    rbound = len(arr) - lbound\n",
    "    if lbound > rbound:\n",
    "        raise ValueError(\"Too much to trunclate\")\n",
    "    return mean(arr[lbound:rbound])\n",
    "\n",
    "def variance(arr):\n",
    "    return momentum(arr, 2) - mean(arr) ** 2\n",
    "\n",
    "def quantile(arr, q):\n",
    "    if q < 0 or q > 1:\n",
    "        raise ValueError(\"Q must be between 0 and 1\")\n",
    "\n",
    "    arr = sorted(arr)\n",
    "    full_sum = 0\n",
    "    for elem in arr:\n",
    "        full_sum += elem\n",
    "    left_sum = float(full_sum * q)\n",
    "\n",
    "    i, sum = 0, 0\n",
    "    while i < len(arr):\n",
    "        if sum + arr[i] >= left_sum:\n",
    "            break\n",
    "        sum += arr[i]\n",
    "        i += 1\n",
    "    if i == len(arr):\n",
    "        raise ValueError(\"Q must be between 0 and 1\")\n",
    "    lval = arr[i - 1] if i > 0 else arr[0]\n",
    "    rval = arr[i]\n",
    "    return (lval + rval) / 2\n",
    "\n",
    "def momentum(arr, k: int):\n",
    "    if k < 1:\n",
    "        raise ValueError(\"K must be natural\")\n",
    "    sum = 0\n",
    "    for elem in arr:\n",
    "        sum += elem ** k\n",
    "    return sum / len(arr)\n",
    "\n",
    "def central_momentum(arr, k: int):\n",
    "    if k < 1:\n",
    "        raise ValueError(\"K must be natural\")\n",
    "    mn = mean(arr)\n",
    "    sum = 0\n",
    "    for elem in arr:\n",
    "        sum += (elem - mn) ** k\n",
    "    return sum / len(arr)\n",
    "\n",
    "def check_equal(f1, f2, *args, eps=0.01, **kwargs):\n",
    "    res1 = f1(*args, **kwargs)\n",
    "    res2 = f2(*args, **kwargs)\n",
    "    return abs(res1 - res2) < eps, res1, res2"
   ]
  },
  {
   "cell_type": "markdown",
   "metadata": {},
   "source": [
    "### Comparison"
   ]
  },
  {
   "cell_type": "code",
   "execution_count": 148,
   "metadata": {},
   "outputs": [
    {
     "data": {
      "text/plain": [
       "array([10., 10., 10., ..., 10.,  7.,  7.])"
      ]
     },
     "execution_count": 148,
     "metadata": {},
     "output_type": "execute_result"
    }
   ],
   "source": [
    "data =  df[\"Visibility(mi)\"].dropna().values\n",
    "data"
   ]
  },
  {
   "cell_type": "code",
   "execution_count": 150,
   "metadata": {},
   "outputs": [
    {
     "data": {
      "text/plain": [
       "(True, 9.46561113352158, 9.46561113352158)"
      ]
     },
     "execution_count": 150,
     "metadata": {},
     "output_type": "execute_result"
    }
   ],
   "source": [
    "check_equal(np.mean, mean, data)"
   ]
  },
  {
   "cell_type": "code",
   "execution_count": 162,
   "metadata": {},
   "outputs": [
    {
     "data": {
      "text/plain": [
       "(True, 10.0, 10.0)"
      ]
     },
     "execution_count": 162,
     "metadata": {},
     "output_type": "execute_result"
    }
   ],
   "source": [
    "check_equal(np.median, median, data)"
   ]
  },
  {
   "cell_type": "code",
   "execution_count": 159,
   "metadata": {},
   "outputs": [
    {
     "data": {
      "text/plain": [
       "(True, 9.94077620967742, 9.94077620967742)"
      ]
     },
     "execution_count": 159,
     "metadata": {},
     "output_type": "execute_result"
    }
   ],
   "source": [
    "check_equal(stats.trim_mean, trunc_mean, data, 0.1)"
   ]
  },
  {
   "cell_type": "code",
   "execution_count": 161,
   "metadata": {},
   "outputs": [
    {
     "data": {
      "text/plain": [
       "(True, 3.5586499996501475, 3.5586499996501573)"
      ]
     },
     "execution_count": 161,
     "metadata": {},
     "output_type": "execute_result"
    }
   ],
   "source": [
    "check_equal(np.var, variance, data)"
   ]
  },
  {
   "cell_type": "code",
   "execution_count": 163,
   "metadata": {},
   "outputs": [
    {
     "data": {
      "text/plain": [
       "(True, 10.0, 10.0)"
      ]
     },
     "execution_count": 163,
     "metadata": {},
     "output_type": "execute_result"
    }
   ],
   "source": [
    "check_equal(np.quantile, quantile, data, 0.25)"
   ]
  },
  {
   "cell_type": "markdown",
   "metadata": {},
   "source": [
    "##### Не нашёл в scipy/numpy функцию для подсчёта начального момента"
   ]
  },
  {
   "cell_type": "code",
   "execution_count": 167,
   "metadata": {},
   "outputs": [
    {
     "data": {
      "text/plain": [
       "(True, 3.5586499996501475, 3.558649999649888)"
      ]
     },
     "execution_count": 167,
     "metadata": {},
     "output_type": "execute_result"
    }
   ],
   "source": [
    "check_equal(stats.moment, central_momentum, data, 2)"
   ]
  },
  {
   "cell_type": "markdown",
   "metadata": {},
   "source": [
    "### Graphs"
   ]
  },
  {
   "cell_type": "code",
   "execution_count": 81,
   "metadata": {},
   "outputs": [
    {
     "name": "stdout",
     "output_type": "stream",
     "text": [
      "[[8.5, 9.397620689655172, 9.564372864812103, 9.2], [8.5, 10.0, 10.0, 10.0], [8.5, 9.909013605442176, 9.971393791844188, 9.2]]\n"
     ]
    }
   ],
   "source": [
    "arrs = [[], [], []]\n",
    "names = [\"mean\", \"median\", \"trunclated mean\"]\n",
    "xses = np.arange(1, 5)\n",
    "for x in xses:\n",
    "    loc = df.loc[df.Severity == x, \"Visibility(mi)\"]\n",
    "    arrs[0].append(loc.mean())\n",
    "    arrs[1].append(loc.median())\n",
    "    arrs[2].append(stats.trim_mean(loc, 0.1))\n",
    "print(arrs)"
   ]
  },
  {
   "cell_type": "code",
   "execution_count": 82,
   "metadata": {},
   "outputs": [
    {
     "name": "stderr",
     "output_type": "stream",
     "text": [
      "/mnt/f/Code/linux-home/miniconda3/envs/vscode_py38/lib/python3.8/site-packages/seaborn/_decorators.py:36: FutureWarning: Pass the following variables as keyword args: x, y. From version 0.12, the only valid positional argument will be `data`, and passing other arguments without an explicit keyword will result in an error or misinterpretation.\n",
      "  warnings.warn(\n",
      "/mnt/f/Code/linux-home/miniconda3/envs/vscode_py38/lib/python3.8/site-packages/seaborn/_decorators.py:36: FutureWarning: Pass the following variables as keyword args: x, y. From version 0.12, the only valid positional argument will be `data`, and passing other arguments without an explicit keyword will result in an error or misinterpretation.\n",
      "  warnings.warn(\n",
      "/mnt/f/Code/linux-home/miniconda3/envs/vscode_py38/lib/python3.8/site-packages/seaborn/_decorators.py:36: FutureWarning: Pass the following variables as keyword args: x, y. From version 0.12, the only valid positional argument will be `data`, and passing other arguments without an explicit keyword will result in an error or misinterpretation.\n",
      "  warnings.warn(\n"
     ]
    },
    {
     "data": {
      "image/png": "[encoded data removed]",
      "text/plain": [
       "<Figure size 1440x288 with 3 Axes>"
      ]
     },
     "metadata": {
      "needs_background": "light"
     },
     "output_type": "display_data"
    }
   ],
   "source": [
    "fig, axs = plt.subplots(1, 3)\n",
    "fig.set_size_inches(20,4)\n",
    "for i in range(3):\n",
    "    axs[i].set_xlabel(\"Severity\")\n",
    "    axs[i].set_ylabel(f\"{names[i]} visibility\")\n",
    "    sns.lineplot(xses, arrs[i], ax=axs[i])"
   ]
  },
  {
   "cell_type": "markdown",
   "metadata": {},
   "source": [
    "##### Усеченное среднее отличается от среднего, значит в данных присутствуют выбросы\n",
    "##### По графикам видно, что в целом видимость дороги не сильно влияет на тяжесть ДТП, но в происшествиях с наибольшей тяжестью средняя видимость дороги меньше. Если видимоть очень маленькая, водители, вероятно, сбавляют скорость и тяжесть аварий уменьшается"
   ]
  },
  {
   "cell_type": "code",
   "execution_count": 84,
   "metadata": {},
   "outputs": [
    {
     "name": "stdout",
     "output_type": "stream",
     "text": [
      "[[ 5.91  6.02  6.35  6.9   9.2  10.58 11.04]\n",
      " [ 3.5   4.6   5.8   8.1  11.5  15.   17.3 ]\n",
      " [ 3.5   4.6   6.9   9.2  12.7  15.   18.4 ]\n",
      " [ 5.8   5.8   5.8   6.9  10.4  13.16 14.08]]\n"
     ]
    }
   ],
   "source": [
    "quantiles = np.array([0.05, 0.1, 0.25, 0.5, 0.75, 0.9, 0.95])\n",
    "severeties = np.arange(1, 5)\n",
    "data = np.empty((severeties.shape[0], quantiles.shape[0]))\n",
    "for i in range(severeties.shape[0]):\n",
    "    loc = df.loc[df.Severity == severeties[i], \"Wind_Speed(mph)\"]\n",
    "    data[i] = loc.quantile(quantiles)\n",
    "print(data)"
   ]
  },
  {
   "cell_type": "code",
   "execution_count": 90,
   "metadata": {},
   "outputs": [
    {
     "name": "stderr",
     "output_type": "stream",
     "text": [
      "/mnt/f/Code/linux-home/miniconda3/envs/vscode_py38/lib/python3.8/site-packages/seaborn/_decorators.py:36: FutureWarning: Pass the following variables as keyword args: x, y. From version 0.12, the only valid positional argument will be `data`, and passing other arguments without an explicit keyword will result in an error or misinterpretation.\n",
      "  warnings.warn(\n",
      "/mnt/f/Code/linux-home/miniconda3/envs/vscode_py38/lib/python3.8/site-packages/seaborn/_decorators.py:36: FutureWarning: Pass the following variables as keyword args: x, y. From version 0.12, the only valid positional argument will be `data`, and passing other arguments without an explicit keyword will result in an error or misinterpretation.\n",
      "  warnings.warn(\n",
      "/mnt/f/Code/linux-home/miniconda3/envs/vscode_py38/lib/python3.8/site-packages/seaborn/_decorators.py:36: FutureWarning: Pass the following variables as keyword args: x, y. From version 0.12, the only valid positional argument will be `data`, and passing other arguments without an explicit keyword will result in an error or misinterpretation.\n",
      "  warnings.warn(\n",
      "/mnt/f/Code/linux-home/miniconda3/envs/vscode_py38/lib/python3.8/site-packages/seaborn/_decorators.py:36: FutureWarning: Pass the following variables as keyword args: x, y. From version 0.12, the only valid positional argument will be `data`, and passing other arguments without an explicit keyword will result in an error or misinterpretation.\n",
      "  warnings.warn(\n"
     ]
    },
    {
     "data": {
      "image/png": "[encoded data removed]",
      "text/plain": [
       "<Figure size 1440x288 with 4 Axes>"
      ]
     },
     "metadata": {
      "needs_background": "light"
     },
     "output_type": "display_data"
    }
   ],
   "source": [
    "fig, axs = plt.subplots(1, 4)\n",
    "fig.set_size_inches(20,4)\n",
    "for i in range(4):\n",
    "    axs[i].set_xlabel(\"Wind speed\")\n",
    "    axs[i].set_ylabel(\"Dist\")\n",
    "    axs[i].set_ylim(0, 1)\n",
    "    axs[i].set_title(f\"Wind speed distribution for crashes of severity = {i + 1}\")\n",
    "    sns.lineplot(data[i], quantiles, ax=axs[i])"
   ]
  },
  {
   "cell_type": "markdown",
   "metadata": {},
   "source": [
    "### Boxplots"
   ]
  },
  {
   "cell_type": "code",
   "execution_count": 97,
   "metadata": {},
   "outputs": [
    {
     "data": {
      "text/plain": [
       "<AxesSubplot:xlabel='Severity', ylabel='Wind_Speed(mph)'>"
      ]
     },
     "execution_count": 97,
     "metadata": {},
     "output_type": "execute_result"
    },
    {
     "data": {
      "image/png": "[encoded data removed]",
      "text/plain": [
       "<Figure size 432x288 with 1 Axes>"
      ]
     },
     "metadata": {
      "needs_background": "light"
     },
     "output_type": "display_data"
    }
   ],
   "source": [
    "sns.boxplot(x=\"Severity\", y=\"Wind_Speed(mph)\", data=df)"
   ]
  },
  {
   "cell_type": "markdown",
   "metadata": {},
   "source": [
    "##### Modes"
   ]
  },
  {
   "cell_type": "code",
   "execution_count": 114,
   "metadata": {},
   "outputs": [
    {
     "data": {
      "text/plain": [
       "[0     5.8\n",
       " 1     6.9\n",
       " 2    11.5\n",
       " dtype: float64,\n",
       " 0    5.8\n",
       " dtype: float64,\n",
       " 0    8.1\n",
       " dtype: float64,\n",
       " 0    5.8\n",
       " dtype: float64]"
      ]
     },
     "execution_count": 114,
     "metadata": {},
     "output_type": "execute_result"
    }
   ],
   "source": [
    "modes = [df.loc[df.Severity == i, \"Wind_Speed(mph)\"].mode() for i in range(1, 5)]\n",
    "modes"
   ]
  },
  {
   "cell_type": "code",
   "execution_count": null,
   "metadata": {},
   "outputs": [],
   "source": []
  }
 ],
 "metadata": {
  "interpreter": {
   "hash": "89f78e222560bf67ff472ae0f90f87be7001f701f400a56ad941724e28f56f3e"
  },
  "kernelspec": {
   "display_name": "Python 3.8.12 64-bit ('vscode_py38': conda)",
   "language": "python",
   "name": "python3"
  },
  "language_info": {
   "codemirror_mode": {
    "name": "ipython",
    "version": 3
   },
   "file_extension": ".py",
   "mimetype": "text/x-python",
   "name": "python",
   "nbconvert_exporter": "python",
   "pygments_lexer": "ipython3",
   "version": "3.8.12"
  },
  "orig_nbformat": 4
 },
 "nbformat": 4,
 "nbformat_minor": 2
}
