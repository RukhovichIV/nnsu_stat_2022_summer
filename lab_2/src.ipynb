{
 "cells": [
  {
   "cell_type": "markdown",
   "metadata": {},
   "source": [
    "### Imports"
   ]
  },
  {
   "cell_type": "code",
   "execution_count": 90,
   "metadata": {},
   "outputs": [],
   "source": [
    "import numpy as np\n",
    "import pandas as pd\n",
    "from matplotlib import pyplot as plt\n",
    "import seaborn as sns"
   ]
  },
  {
   "cell_type": "markdown",
   "metadata": {},
   "source": [
    "### Reading data"
   ]
  },
  {
   "cell_type": "code",
   "execution_count": 3,
   "metadata": {},
   "outputs": [],
   "source": [
    "data_path = \"../data/lab_2/car_crashes.xlsx\""
   ]
  },
  {
   "cell_type": "code",
   "execution_count": 34,
   "metadata": {},
   "outputs": [
    {
     "data": {
      "text/html": [
       "<div>\n",
       "<style scoped>\n",
       "    .dataframe tbody tr th:only-of-type {\n",
       "        vertical-align: middle;\n",
       "    }\n",
       "\n",
       "    .dataframe tbody tr th {\n",
       "        vertical-align: top;\n",
       "    }\n",
       "\n",
       "    .dataframe thead th {\n",
       "        text-align: right;\n",
       "    }\n",
       "</style>\n",
       "<table border=\"1\" class=\"dataframe\">\n",
       "  <thead>\n",
       "    <tr style=\"text-align: right;\">\n",
       "      <th></th>\n",
       "      <th>ID</th>\n",
       "      <th>Source</th>\n",
       "      <th>TMC</th>\n",
       "      <th>Severity</th>\n",
       "      <th>Start_Time</th>\n",
       "      <th>End_Time</th>\n",
       "      <th>Distance(mi)</th>\n",
       "      <th>Description</th>\n",
       "      <th>Street</th>\n",
       "      <th>Side</th>\n",
       "      <th>...</th>\n",
       "      <th>No_Exit</th>\n",
       "      <th>Railway</th>\n",
       "      <th>Roundabout</th>\n",
       "      <th>Station</th>\n",
       "      <th>Stop</th>\n",
       "      <th>Traffic_Calming</th>\n",
       "      <th>Traffic_Signal</th>\n",
       "      <th>Turning_Loop</th>\n",
       "      <th>Sunrise_Sunset</th>\n",
       "      <th>Civil_Twilight</th>\n",
       "    </tr>\n",
       "  </thead>\n",
       "  <tbody>\n",
       "    <tr>\n",
       "      <th>0</th>\n",
       "      <td>A-1</td>\n",
       "      <td>MapQuest</td>\n",
       "      <td>201.0</td>\n",
       "      <td>3</td>\n",
       "      <td>2016-02-08 05:46:00</td>\n",
       "      <td>2016-02-08 11:00:00</td>\n",
       "      <td>0.01</td>\n",
       "      <td>Right lane blocked due to accident on I-70 Eas...</td>\n",
       "      <td>I-70 E</td>\n",
       "      <td>R</td>\n",
       "      <td>...</td>\n",
       "      <td>False</td>\n",
       "      <td>False</td>\n",
       "      <td>False</td>\n",
       "      <td>False</td>\n",
       "      <td>False</td>\n",
       "      <td>False</td>\n",
       "      <td>False</td>\n",
       "      <td>False</td>\n",
       "      <td>Night</td>\n",
       "      <td>Night</td>\n",
       "    </tr>\n",
       "    <tr>\n",
       "      <th>1</th>\n",
       "      <td>A-2</td>\n",
       "      <td>MapQuest</td>\n",
       "      <td>201.0</td>\n",
       "      <td>2</td>\n",
       "      <td>2016-02-08 06:07:59</td>\n",
       "      <td>2016-02-08 06:37:59</td>\n",
       "      <td>0.01</td>\n",
       "      <td>Accident on Brice Rd at Tussing Rd. Expect del...</td>\n",
       "      <td>Brice Rd</td>\n",
       "      <td>L</td>\n",
       "      <td>...</td>\n",
       "      <td>False</td>\n",
       "      <td>False</td>\n",
       "      <td>False</td>\n",
       "      <td>False</td>\n",
       "      <td>False</td>\n",
       "      <td>False</td>\n",
       "      <td>False</td>\n",
       "      <td>False</td>\n",
       "      <td>Night</td>\n",
       "      <td>Night</td>\n",
       "    </tr>\n",
       "    <tr>\n",
       "      <th>2</th>\n",
       "      <td>A-3</td>\n",
       "      <td>MapQuest</td>\n",
       "      <td>201.0</td>\n",
       "      <td>2</td>\n",
       "      <td>2016-02-08 06:49:27</td>\n",
       "      <td>2016-02-08 07:19:27</td>\n",
       "      <td>0.01</td>\n",
       "      <td>Accident on OH-32 State Route 32 Westbound at ...</td>\n",
       "      <td>State Route 32</td>\n",
       "      <td>R</td>\n",
       "      <td>...</td>\n",
       "      <td>False</td>\n",
       "      <td>False</td>\n",
       "      <td>False</td>\n",
       "      <td>False</td>\n",
       "      <td>False</td>\n",
       "      <td>False</td>\n",
       "      <td>True</td>\n",
       "      <td>False</td>\n",
       "      <td>Night</td>\n",
       "      <td>Night</td>\n",
       "    </tr>\n",
       "    <tr>\n",
       "      <th>3</th>\n",
       "      <td>A-4</td>\n",
       "      <td>MapQuest</td>\n",
       "      <td>201.0</td>\n",
       "      <td>3</td>\n",
       "      <td>2016-02-08 07:23:34</td>\n",
       "      <td>2016-02-08 07:53:34</td>\n",
       "      <td>0.01</td>\n",
       "      <td>Accident on I-75 Southbound at Exits 52 52B US...</td>\n",
       "      <td>I-75 S</td>\n",
       "      <td>R</td>\n",
       "      <td>...</td>\n",
       "      <td>False</td>\n",
       "      <td>False</td>\n",
       "      <td>False</td>\n",
       "      <td>False</td>\n",
       "      <td>False</td>\n",
       "      <td>False</td>\n",
       "      <td>False</td>\n",
       "      <td>False</td>\n",
       "      <td>Night</td>\n",
       "      <td>Day</td>\n",
       "    </tr>\n",
       "    <tr>\n",
       "      <th>4</th>\n",
       "      <td>A-5</td>\n",
       "      <td>MapQuest</td>\n",
       "      <td>201.0</td>\n",
       "      <td>2</td>\n",
       "      <td>2016-02-08 07:39:07</td>\n",
       "      <td>2016-02-08 08:09:07</td>\n",
       "      <td>0.01</td>\n",
       "      <td>Accident on McEwen Rd at OH-725 Miamisburg Cen...</td>\n",
       "      <td>Miamisburg Centerville Rd</td>\n",
       "      <td>R</td>\n",
       "      <td>...</td>\n",
       "      <td>False</td>\n",
       "      <td>False</td>\n",
       "      <td>False</td>\n",
       "      <td>False</td>\n",
       "      <td>False</td>\n",
       "      <td>False</td>\n",
       "      <td>True</td>\n",
       "      <td>False</td>\n",
       "      <td>Day</td>\n",
       "      <td>Day</td>\n",
       "    </tr>\n",
       "    <tr>\n",
       "      <th>...</th>\n",
       "      <td>...</td>\n",
       "      <td>...</td>\n",
       "      <td>...</td>\n",
       "      <td>...</td>\n",
       "      <td>...</td>\n",
       "      <td>...</td>\n",
       "      <td>...</td>\n",
       "      <td>...</td>\n",
       "      <td>...</td>\n",
       "      <td>...</td>\n",
       "      <td>...</td>\n",
       "      <td>...</td>\n",
       "      <td>...</td>\n",
       "      <td>...</td>\n",
       "      <td>...</td>\n",
       "      <td>...</td>\n",
       "      <td>...</td>\n",
       "      <td>...</td>\n",
       "      <td>...</td>\n",
       "      <td>...</td>\n",
       "      <td>...</td>\n",
       "    </tr>\n",
       "    <tr>\n",
       "      <th>4995</th>\n",
       "      <td>A-4996</td>\n",
       "      <td>MapQuest</td>\n",
       "      <td>201.0</td>\n",
       "      <td>2</td>\n",
       "      <td>2016-08-01 11:35:41</td>\n",
       "      <td>2016-08-01 12:05:41</td>\n",
       "      <td>0.00</td>\n",
       "      <td>Accident on Cold Springs Rd at Middletown Rd.</td>\n",
       "      <td>Cold Springs Rd</td>\n",
       "      <td>R</td>\n",
       "      <td>...</td>\n",
       "      <td>False</td>\n",
       "      <td>False</td>\n",
       "      <td>False</td>\n",
       "      <td>False</td>\n",
       "      <td>False</td>\n",
       "      <td>False</td>\n",
       "      <td>False</td>\n",
       "      <td>False</td>\n",
       "      <td>Day</td>\n",
       "      <td>Day</td>\n",
       "    </tr>\n",
       "    <tr>\n",
       "      <th>4996</th>\n",
       "      <td>A-4997</td>\n",
       "      <td>MapQuest</td>\n",
       "      <td>201.0</td>\n",
       "      <td>2</td>\n",
       "      <td>2016-08-01 11:41:23</td>\n",
       "      <td>2016-08-01 12:26:23</td>\n",
       "      <td>0.00</td>\n",
       "      <td>Accident on Travis Blvd at Holiday Ln.</td>\n",
       "      <td>Travis Blvd</td>\n",
       "      <td>R</td>\n",
       "      <td>...</td>\n",
       "      <td>False</td>\n",
       "      <td>False</td>\n",
       "      <td>False</td>\n",
       "      <td>False</td>\n",
       "      <td>False</td>\n",
       "      <td>False</td>\n",
       "      <td>True</td>\n",
       "      <td>False</td>\n",
       "      <td>Day</td>\n",
       "      <td>Day</td>\n",
       "    </tr>\n",
       "    <tr>\n",
       "      <th>4997</th>\n",
       "      <td>A-4998</td>\n",
       "      <td>MapQuest</td>\n",
       "      <td>201.0</td>\n",
       "      <td>2</td>\n",
       "      <td>2016-08-01 11:57:27</td>\n",
       "      <td>2016-08-01 12:42:27</td>\n",
       "      <td>0.00</td>\n",
       "      <td>Accident on River Rd at Orchard Rd.</td>\n",
       "      <td>River Rd</td>\n",
       "      <td>L</td>\n",
       "      <td>...</td>\n",
       "      <td>False</td>\n",
       "      <td>False</td>\n",
       "      <td>False</td>\n",
       "      <td>False</td>\n",
       "      <td>False</td>\n",
       "      <td>False</td>\n",
       "      <td>False</td>\n",
       "      <td>False</td>\n",
       "      <td>Day</td>\n",
       "      <td>Day</td>\n",
       "    </tr>\n",
       "    <tr>\n",
       "      <th>4998</th>\n",
       "      <td>A-4999</td>\n",
       "      <td>MapQuest</td>\n",
       "      <td>201.0</td>\n",
       "      <td>2</td>\n",
       "      <td>2016-08-01 12:00:54</td>\n",
       "      <td>2016-08-01 12:30:54</td>\n",
       "      <td>0.00</td>\n",
       "      <td>Accident on Marconi Ave at Bell St.</td>\n",
       "      <td>Bell St</td>\n",
       "      <td>R</td>\n",
       "      <td>...</td>\n",
       "      <td>False</td>\n",
       "      <td>False</td>\n",
       "      <td>False</td>\n",
       "      <td>False</td>\n",
       "      <td>False</td>\n",
       "      <td>False</td>\n",
       "      <td>False</td>\n",
       "      <td>False</td>\n",
       "      <td>Day</td>\n",
       "      <td>Day</td>\n",
       "    </tr>\n",
       "    <tr>\n",
       "      <th>4999</th>\n",
       "      <td>A-5000</td>\n",
       "      <td>MapQuest</td>\n",
       "      <td>201.0</td>\n",
       "      <td>2</td>\n",
       "      <td>2016-08-01 11:59:44</td>\n",
       "      <td>2016-08-01 12:29:44</td>\n",
       "      <td>0.00</td>\n",
       "      <td>Accident on Madison Ave Westbound at I-80.</td>\n",
       "      <td>I-80 W</td>\n",
       "      <td>R</td>\n",
       "      <td>...</td>\n",
       "      <td>False</td>\n",
       "      <td>False</td>\n",
       "      <td>False</td>\n",
       "      <td>False</td>\n",
       "      <td>False</td>\n",
       "      <td>False</td>\n",
       "      <td>False</td>\n",
       "      <td>False</td>\n",
       "      <td>Day</td>\n",
       "      <td>Day</td>\n",
       "    </tr>\n",
       "  </tbody>\n",
       "</table>\n",
       "<p>5000 rows × 37 columns</p>\n",
       "</div>"
      ],
      "text/plain": [
       "          ID    Source    TMC  Severity           Start_Time  \\\n",
       "0        A-1  MapQuest  201.0         3  2016-02-08 05:46:00   \n",
       "1        A-2  MapQuest  201.0         2  2016-02-08 06:07:59   \n",
       "2        A-3  MapQuest  201.0         2  2016-02-08 06:49:27   \n",
       "3        A-4  MapQuest  201.0         3  2016-02-08 07:23:34   \n",
       "4        A-5  MapQuest  201.0         2  2016-02-08 07:39:07   \n",
       "...      ...       ...    ...       ...                  ...   \n",
       "4995  A-4996  MapQuest  201.0         2  2016-08-01 11:35:41   \n",
       "4996  A-4997  MapQuest  201.0         2  2016-08-01 11:41:23   \n",
       "4997  A-4998  MapQuest  201.0         2  2016-08-01 11:57:27   \n",
       "4998  A-4999  MapQuest  201.0         2  2016-08-01 12:00:54   \n",
       "4999  A-5000  MapQuest  201.0         2  2016-08-01 11:59:44   \n",
       "\n",
       "                 End_Time  Distance(mi)  \\\n",
       "0     2016-02-08 11:00:00          0.01   \n",
       "1     2016-02-08 06:37:59          0.01   \n",
       "2     2016-02-08 07:19:27          0.01   \n",
       "3     2016-02-08 07:53:34          0.01   \n",
       "4     2016-02-08 08:09:07          0.01   \n",
       "...                   ...           ...   \n",
       "4995  2016-08-01 12:05:41          0.00   \n",
       "4996  2016-08-01 12:26:23          0.00   \n",
       "4997  2016-08-01 12:42:27          0.00   \n",
       "4998  2016-08-01 12:30:54          0.00   \n",
       "4999  2016-08-01 12:29:44          0.00   \n",
       "\n",
       "                                            Description  \\\n",
       "0     Right lane blocked due to accident on I-70 Eas...   \n",
       "1     Accident on Brice Rd at Tussing Rd. Expect del...   \n",
       "2     Accident on OH-32 State Route 32 Westbound at ...   \n",
       "3     Accident on I-75 Southbound at Exits 52 52B US...   \n",
       "4     Accident on McEwen Rd at OH-725 Miamisburg Cen...   \n",
       "...                                                 ...   \n",
       "4995      Accident on Cold Springs Rd at Middletown Rd.   \n",
       "4996             Accident on Travis Blvd at Holiday Ln.   \n",
       "4997                Accident on River Rd at Orchard Rd.   \n",
       "4998                Accident on Marconi Ave at Bell St.   \n",
       "4999         Accident on Madison Ave Westbound at I-80.   \n",
       "\n",
       "                         Street Side  ... No_Exit Railway Roundabout Station  \\\n",
       "0                        I-70 E    R  ...   False   False      False   False   \n",
       "1                      Brice Rd    L  ...   False   False      False   False   \n",
       "2                State Route 32    R  ...   False   False      False   False   \n",
       "3                        I-75 S    R  ...   False   False      False   False   \n",
       "4     Miamisburg Centerville Rd    R  ...   False   False      False   False   \n",
       "...                         ...  ...  ...     ...     ...        ...     ...   \n",
       "4995            Cold Springs Rd    R  ...   False   False      False   False   \n",
       "4996                Travis Blvd    R  ...   False   False      False   False   \n",
       "4997                   River Rd    L  ...   False   False      False   False   \n",
       "4998                    Bell St    R  ...   False   False      False   False   \n",
       "4999                     I-80 W    R  ...   False   False      False   False   \n",
       "\n",
       "       Stop  Traffic_Calming  Traffic_Signal  Turning_Loop  Sunrise_Sunset  \\\n",
       "0     False            False           False         False           Night   \n",
       "1     False            False           False         False           Night   \n",
       "2     False            False            True         False           Night   \n",
       "3     False            False           False         False           Night   \n",
       "4     False            False            True         False             Day   \n",
       "...     ...              ...             ...           ...             ...   \n",
       "4995  False            False           False         False             Day   \n",
       "4996  False            False            True         False             Day   \n",
       "4997  False            False           False         False             Day   \n",
       "4998  False            False           False         False             Day   \n",
       "4999  False            False           False         False             Day   \n",
       "\n",
       "     Civil_Twilight  \n",
       "0             Night  \n",
       "1             Night  \n",
       "2             Night  \n",
       "3               Day  \n",
       "4               Day  \n",
       "...             ...  \n",
       "4995            Day  \n",
       "4996            Day  \n",
       "4997            Day  \n",
       "4998            Day  \n",
       "4999            Day  \n",
       "\n",
       "[5000 rows x 37 columns]"
      ]
     },
     "execution_count": 34,
     "metadata": {},
     "output_type": "execute_result"
    }
   ],
   "source": [
    "df = pd.read_excel(data_path)\n",
    "df"
   ]
  },
  {
   "cell_type": "code",
   "execution_count": 17,
   "metadata": {},
   "outputs": [
    {
     "data": {
      "text/plain": [
       "Index(['ID', 'Source', 'TMC', 'Severity', 'Start_Time', 'End_Time',\n",
       "       'Distance(mi)', 'Description', 'Street', 'Side', 'City', 'State',\n",
       "       'Zipcode', 'Weather_Timestamp', 'Temperature(F)', 'Wind_Chill(F)',\n",
       "       'Humidity(%)', 'Pressure(in)', 'Visibility(mi)', 'Wind_Direction',\n",
       "       'Wind_Speed(mph)', 'Precipitation(in)', 'Weather_Condition', 'Bump',\n",
       "       'Crossing', 'Give_Way', 'Junction', 'No_Exit', 'Railway', 'Roundabout',\n",
       "       'Station', 'Stop', 'Traffic_Calming', 'Traffic_Signal', 'Turning_Loop',\n",
       "       'Sunrise_Sunset', 'Civil_Twilight'],\n",
       "      dtype='object')"
      ]
     },
     "execution_count": 17,
     "metadata": {},
     "output_type": "execute_result"
    }
   ],
   "source": [
    "df.columns"
   ]
  },
  {
   "cell_type": "markdown",
   "metadata": {},
   "source": [
    "### Data types:\n",
    "##### Nominal:\n",
    "ID, Source, Description, Street, City, State, Zipcode, Wind_Direction, Weather_Condition\n",
    "##### Binary:\n",
    "Side, Bump, Crossing, Give_Way, Junction, No_Exit, Railway, Roundabout, Station, Stop, Traffic_Calming, Traffic_Signal, Turning_Loop, Sunrise_Sunset, Civil_Twilight\n",
    "##### Ordinal:\n",
    "Severity\n",
    "##### Discrete:\n",
    "TMC\n",
    "##### Сontinuous:\n",
    "Start_Time, End_Time, Distance(mi), Weather_Timestamp, Temperature(F), Wind_Chill(F), Humidity(%), Pressure(in), Visibility(mi), Wind_Speed(mph), Precipitation(in)"
   ]
  },
  {
   "cell_type": "markdown",
   "metadata": {},
   "source": [
    "### Visibility"
   ]
  },
  {
   "cell_type": "code",
   "execution_count": 43,
   "metadata": {},
   "outputs": [
    {
     "data": {
      "text/plain": [
       "count    4958.000000\n",
       "mean        9.465611\n",
       "std         1.886629\n",
       "min         0.200000\n",
       "25%        10.000000\n",
       "50%        10.000000\n",
       "75%        10.000000\n",
       "max        40.000000\n",
       "Name: Visibility(mi), dtype: float64"
      ]
     },
     "execution_count": 43,
     "metadata": {},
     "output_type": "execute_result"
    }
   ],
   "source": [
    "visibility = df.loc[:, \"Visibility(mi)\"].dropna()\n",
    "visibility.describe()"
   ]
  },
  {
   "cell_type": "code",
   "execution_count": 47,
   "metadata": {},
   "outputs": [
    {
     "data": {
      "text/plain": [
       "<AxesSubplot:>"
      ]
     },
     "execution_count": 47,
     "metadata": {},
     "output_type": "execute_result"
    },
    {
     "data": {
      "image/png": "[encoded data removed]",
      "text/plain": [
       "<Figure size 432x288 with 1 Axes>"
      ]
     },
     "metadata": {
      "needs_background": "light"
     },
     "output_type": "display_data"
    }
   ],
   "source": [
    "visibility.hist(log=True)"
   ]
  },
  {
   "cell_type": "code",
   "execution_count": 104,
   "metadata": {},
   "outputs": [
    {
     "data": {
      "image/png": "[encoded data removed]",
      "text/plain": [
       "<Figure size 1440x288 with 4 Axes>"
      ]
     },
     "metadata": {
      "needs_background": "light"
     },
     "output_type": "display_data"
    }
   ],
   "source": [
    "fig, axs = plt.subplots(1, 4)\n",
    "fig.set_size_inches(20,4)\n",
    "for i in range(4):\n",
    "    axs[i].set_xlabel(\"Visibility\")\n",
    "    axs[i].set_ylabel(\"Count\")\n",
    "    axs[i].set_title(f\"Visibility hist for crashes of severity = {i + 1}\")\n",
    "    df.loc[df.Severity == i + 1,\"Visibility(mi)\"].dropna().hist(ax=axs[i], log=True)"
   ]
  },
  {
   "cell_type": "code",
   "execution_count": 105,
   "metadata": {},
   "outputs": [
    {
     "data": {
      "image/png": "[encoded data removed]",
      "text/plain": [
       "<Figure size 1440x288 with 4 Axes>"
      ]
     },
     "metadata": {
      "needs_background": "light"
     },
     "output_type": "display_data"
    }
   ],
   "source": [
    "fig, axs = plt.subplots(1, 4)\n",
    "fig.set_size_inches(20,4)\n",
    "for i in range(4):\n",
    "    axs[i].set_xlabel(\"Visibility\")\n",
    "    axs[i].set_ylabel(\"Dist\")\n",
    "    axs[i].set_title(f\"Visibility distribution for crashes of severity = {i + 1}\")\n",
    "    sns.kdeplot(df.loc[df.Severity == i + 1,\"Visibility(mi)\"].dropna(),\n",
    "                ax=axs[i], cumulative=True)"
   ]
  },
  {
   "cell_type": "markdown",
   "metadata": {},
   "source": [
    "### Temperature"
   ]
  },
  {
   "cell_type": "code",
   "execution_count": 106,
   "metadata": {},
   "outputs": [
    {
     "data": {
      "text/plain": [
       "count    4978.000000\n",
       "mean       69.849900\n",
       "std        18.308741\n",
       "min         3.900000\n",
       "25%        60.800000\n",
       "50%        71.100000\n",
       "75%        82.400000\n",
       "max       106.000000\n",
       "Name: Temperature(F), dtype: float64"
      ]
     },
     "execution_count": 106,
     "metadata": {},
     "output_type": "execute_result"
    }
   ],
   "source": [
    "temperature = df.loc[:, \"Temperature(F)\"]\n",
    "temperature.describe()"
   ]
  },
  {
   "cell_type": "markdown",
   "metadata": {},
   "source": [
    "##### Variation series"
   ]
  },
  {
   "cell_type": "code",
   "execution_count": 116,
   "metadata": {},
   "outputs": [
    {
     "data": {
      "text/plain": [
       "[3.9,\n",
       " 5.0,\n",
       " 6.1,\n",
       " 7.0,\n",
       " 7.0,\n",
       " 7.0,\n",
       " 7.5,\n",
       " 7.5,\n",
       " 8.1,\n",
       " 9.0,\n",
       " 10.0,\n",
       " 10.0,\n",
       " 10.4,\n",
       " 10.9,\n",
       " 10.9]"
      ]
     },
     "execution_count": 116,
     "metadata": {},
     "output_type": "execute_result"
    }
   ],
   "source": [
    "var_series = sorted(temperature)\n",
    "var_series[:15]"
   ]
  },
  {
   "cell_type": "markdown",
   "metadata": {},
   "source": [
    "##### Statistical series"
   ]
  },
  {
   "cell_type": "code",
   "execution_count": 120,
   "metadata": {},
   "outputs": [
    {
     "data": {
      "text/plain": [
       "3.9       1\n",
       "5.0       1\n",
       "6.1       1\n",
       "7.0       3\n",
       "7.5       2\n",
       "         ..\n",
       "102.6     1\n",
       "102.9    14\n",
       "103.6     1\n",
       "104.0    24\n",
       "106.0     2\n",
       "Name: Temperature(F), Length: 238, dtype: int64"
      ]
     },
     "execution_count": 120,
     "metadata": {},
     "output_type": "execute_result"
    }
   ],
   "source": [
    "stat_series = temperature.value_counts().sort_index()\n",
    "stat_series"
   ]
  },
  {
   "cell_type": "markdown",
   "metadata": {},
   "source": [
    "##### Grouped statistical series"
   ]
  },
  {
   "cell_type": "code",
   "execution_count": 124,
   "metadata": {},
   "outputs": [
    {
     "data": {
      "text/plain": [
       "<AxesSubplot:>"
      ]
     },
     "execution_count": 124,
     "metadata": {},
     "output_type": "execute_result"
    },
    {
     "data": {
      "image/png": "[encoded data removed]",
      "text/plain": [
       "<Figure size 432x288 with 1 Axes>"
      ]
     },
     "metadata": {
      "needs_background": "light"
     },
     "output_type": "display_data"
    }
   ],
   "source": [
    "temperature.hist(bins=20)"
   ]
  },
  {
   "cell_type": "markdown",
   "metadata": {},
   "source": [
    "### Highest number of accidents"
   ]
  },
  {
   "cell_type": "code",
   "execution_count": 137,
   "metadata": {},
   "outputs": [
    {
     "data": {
      "text/plain": [
       "Sacramento    555\n",
       "Dayton        321\n",
       "San Jose      251\n",
       "Columbus      170\n",
       "Oakland       158\n",
       "Name: City, dtype: int64"
      ]
     },
     "execution_count": 137,
     "metadata": {},
     "output_type": "execute_result"
    }
   ],
   "source": [
    "most_accident_cities = df.City.value_counts(sort=True)[:5]\n",
    "most_accident_cities"
   ]
  },
  {
   "cell_type": "markdown",
   "metadata": {},
   "source": [
    "### Road distance distributions in listed cities"
   ]
  },
  {
   "cell_type": "code",
   "execution_count": 139,
   "metadata": {},
   "outputs": [
    {
     "name": "stderr",
     "output_type": "stream",
     "text": [
      "/mnt/f/Code/linux-home/miniconda3/envs/vscode_py38/lib/python3.8/site-packages/seaborn/distributions.py:316: UserWarning: Dataset has 0 variance; skipping density estimate. Pass `warn_singular=False` to disable this warning.\n",
      "  warnings.warn(msg, UserWarning)\n",
      "/mnt/f/Code/linux-home/miniconda3/envs/vscode_py38/lib/python3.8/site-packages/seaborn/distributions.py:316: UserWarning: Dataset has 0 variance; skipping density estimate. Pass `warn_singular=False` to disable this warning.\n",
      "  warnings.warn(msg, UserWarning)\n",
      "/mnt/f/Code/linux-home/miniconda3/envs/vscode_py38/lib/python3.8/site-packages/seaborn/distributions.py:316: UserWarning: Dataset has 0 variance; skipping density estimate. Pass `warn_singular=False` to disable this warning.\n",
      "  warnings.warn(msg, UserWarning)\n"
     ]
    },
    {
     "data": {
      "image/png": "[encoded data removed]",
      "text/plain": [
       "<Figure size 1800x288 with 5 Axes>"
      ]
     },
     "metadata": {
      "needs_background": "light"
     },
     "output_type": "display_data"
    }
   ],
   "source": [
    "fig, axs = plt.subplots(1, 5)\n",
    "fig.set_size_inches(25,4)\n",
    "for i in range(5):\n",
    "    axs[i].set_xlabel(\"Distance\")\n",
    "    axs[i].set_ylabel(\"Dist\")\n",
    "    axs[i].set_title(f\"Distance distribution for crashes in {most_accident_cities.index[i]}\")\n",
    "    sns.kdeplot(df.loc[df.City == most_accident_cities.index[i], \"Distance(mi)\"],\n",
    "                ax=axs[i], cumulative=True)"
   ]
  },
  {
   "cell_type": "code",
   "execution_count": null,
   "metadata": {},
   "outputs": [],
   "source": []
  }
 ],
 "metadata": {
  "interpreter": {
   "hash": "89f78e222560bf67ff472ae0f90f87be7001f701f400a56ad941724e28f56f3e"
  },
  "kernelspec": {
   "display_name": "Python 3.8.12 64-bit ('vscode_py38': conda)",
   "language": "python",
   "name": "python3"
  },
  "language_info": {
   "codemirror_mode": {
    "name": "ipython",
    "version": 3
   },
   "file_extension": ".py",
   "mimetype": "text/x-python",
   "name": "python",
   "nbconvert_exporter": "python",
   "pygments_lexer": "ipython3",
   "version": "3.8.12"
  },
  "orig_nbformat": 4
 },
 "nbformat": 4,
 "nbformat_minor": 2
}
